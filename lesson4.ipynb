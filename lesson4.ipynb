{
 "cells": [
  {
   "cell_type": "code",
   "execution_count": 47,
   "metadata": {},
   "outputs": [],
   "source": [
    "import numpy as np"
   ]
  },
  {
   "cell_type": "markdown",
   "metadata": {},
   "source": [
    "3. Задание (в программе или на листочке)\n",
    "На листе тетради «в линейку» (расстояние между линиями равно а) лежит игла (длиной b). Координаты нижней точки иглы (х,у), игла лежит под углом alfa. Пересекает ли игла линию или нет?\n",
    "Решение:\n",
    "k = (y-y1)/(x-x1)\n",
    "Если угол (коэффициент) не равен 0, то продолжающаяся линия пересечет горизонтальную линию. У нас известно k (tg alfa), x, y и горизонтальная линия y1. Нам нужно узнать точку перечесения x1.\n"
   ]
  },
  {
   "cell_type": "code",
   "execution_count": 50,
   "metadata": {},
   "outputs": [
    {
     "name": "stdout",
     "output_type": "stream",
     "text": [
      "X на пересечении с горизонтальной прямой = 10.0\n"
     ]
    }
   ],
   "source": [
    "def point_x1(alfa, x, y, y1):\n",
    "    alfa = np.radians(alfa)\n",
    "    x1 = x - (y-y1)/np.tan(alfa)\n",
    "    return x1\n",
    "alfa = 45\n",
    "x = 15\n",
    "y = 8\n",
    "y1  = 3\n",
    "x1 = point_x1(alfa, x, y, y1)\n",
    "print(f'X на пересечении с горизонтальной прямой = {x1}')\n"
   ]
  },
  {
   "cell_type": "raw",
   "metadata": {},
   "source": []
  }
 ],
 "metadata": {
  "kernelspec": {
   "display_name": "Python 3",
   "language": "python",
   "name": "python3"
  },
  "language_info": {
   "codemirror_mode": {
    "name": "ipython",
    "version": 3
   },
   "file_extension": ".py",
   "mimetype": "text/x-python",
   "name": "python",
   "nbconvert_exporter": "python",
   "pygments_lexer": "ipython3",
   "version": "3.7.3"
  },
  "widgets": {
   "application/vnd.jupyter.widget-state+json": {
    "state": {},
    "version_major": 2,
    "version_minor": 0
   }
  }
 },
 "nbformat": 4,
 "nbformat_minor": 2
}
