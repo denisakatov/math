{
 "cells": [
  {
   "cell_type": "markdown",
   "metadata": {},
   "source": [
    "## 1. Напишите код, моделирующий выпадение поля в рулетке (с учетом поля зеро).\n",
    "Вводим только числа, ошибки ввода не обрабатывались"
   ]
  },
  {
   "cell_type": "code",
   "execution_count": 2,
   "metadata": {},
   "outputs": [
    {
     "name": "stdout",
     "output_type": "stream",
     "text": [
      "Введите число от 0 до 36. У Вас 6 попыток. После каждой попытки рулетка будет заново запускаться:16\n",
      "Вы не угадали. Заданное число 31 \n",
      "\n",
      "Введите число от 0 до 36. У Вас 5 попыток. После каждой попытки рулетка будет заново запускаться:16\n",
      "Вы не угадали. Заданное число 25 \n",
      "\n",
      "Введите число от 0 до 36. У Вас 4 попыток. После каждой попытки рулетка будет заново запускаться:16\n",
      "Вы не угадали. Заданное число 26 \n",
      "\n",
      "Введите число от 0 до 36. У Вас 3 попыток. После каждой попытки рулетка будет заново запускаться:16\n",
      "УРРРРРРА! Бинго! Вы угадали. Заданное число 16\n",
      "Введите число от 0 до 36. У Вас 2 попыток. После каждой попытки рулетка будет заново запускаться:16\n",
      "Вы не угадали. Заданное число 27 \n",
      "\n",
      "Введите число от 0 до 36. У Вас 1 попыток. После каждой попытки рулетка будет заново запускаться:16\n",
      "Вы не угадали. Заданное число 12 \n",
      "\n"
     ]
    }
   ],
   "source": [
    "import numpy as np\n",
    "count = 6\n",
    "for i in range(0,6):\n",
    "    #print(i)\n",
    "    a = int(input(f'Введите число от 0 до 36. У Вас {count} попыток. После каждой попытки рулетка будет заново запускаться:'))\n",
    "    x = np.random.randint(0,37)\n",
    "    if a != x:\n",
    "        print(f'Вы не угадали. Заданное число {x}', '\\n')\n",
    "    else:\n",
    "        print(f'УРРРРРРА! Бинго! Вы угадали. Заданное число {x}')\n",
    "    count -= 1"
   ]
  },
  {
   "cell_type": "markdown",
   "metadata": {},
   "source": [
    "## 2.Напишите код, проверяющий любую из теорем сложения или умножения вероятности на примере рулетки или подбрасывания монетки.\n",
    "Сгенерируйте десять выборок случайных чисел х0, …, х9.\n",
    "и постройте гистограмму распределения случайной суммы х0+х1+ …+ х9.\n",
    "\n",
    "### Теорема сложения вероятностей несовместных событий:\n",
    "вероятность появления одного из двух несовместных событий  или  (без разницы какого),  равна сумме вероятностей этих событий:"
   ]
  },
  {
   "cell_type": "code",
   "execution_count": 4,
   "metadata": {},
   "outputs": [
    {
     "name": "stdout",
     "output_type": "stream",
     "text": [
      "2\n",
      "1\n",
      "1\n",
      "1\n",
      "1\n",
      "2\n",
      "1\n",
      "2\n",
      "1\n",
      "1\n",
      "Четные числа:30.0%, нечетные числа 70.0%, всего цифр 100.0%\n"
     ]
    }
   ],
   "source": [
    "import matplotlib.pyplot as plt\n",
    "\n",
    "count = 6\n",
    "even = 0\n",
    "odd = 0\n",
    "for i in np.random.randint(1,3, size=10):\n",
    "    print(i)\n",
    "    if i %2==0:\n",
    "        even +=1\n",
    "    else:\n",
    "        odd +=1\n",
    "total = even + odd\n",
    "\n",
    "print(f'Четные числа:{even/total*100}%, нечетные числа {odd/total*100}%, всего цифр {total/total*100}%')"
   ]
  },
  {
   "cell_type": "markdown",
   "metadata": {},
   "source": [
    "Сгенерируйте десять выборок случайных чисел х0, …, х9.¶\n",
    "и постройте гистограмму распределения случайной суммы х0+х1+ …+ х9."
   ]
  },
  {
   "cell_type": "code",
   "execution_count": 7,
   "metadata": {},
   "outputs": [
    {
     "name": "stdout",
     "output_type": "stream",
     "text": [
      "Введите, сколько сгенерировать случайных чисел: 15\n",
      "[0.33756664 0.5116818  0.18295712 0.54702117 0.13030601 0.82294624\n",
      " 0.39827432 0.24130531 0.63915398 0.52571053 0.59936258 0.00305957\n",
      " 0.05690638 0.11471172 0.53299101]\n",
      "Введите число, на которое необходимо разделить сгенерированные числа: 5\n"
     ]
    },
    {
     "data": {
      "image/png": "[encoded data removed]",
      "text/plain": [
       "<Figure size 432x288 with 1 Axes>"
      ]
     },
     "metadata": {
      "needs_background": "light"
     },
     "output_type": "display_data"
    }
   ],
   "source": [
    "numbers = int(input('Введите, сколько сгенерировать случайных чисел: '))\n",
    "numbers = np.random.rand(numbers)\n",
    "print(numbers)\n",
    "num_bins = 15\n",
    "num_bins = int(input('Введите число, на которое необходимо разделить сгенерированные числа: '))\n",
    "\n",
    "n, bins, patches = plt.hist(numbers, num_bins)"
   ]
  },
  {
   "cell_type": "markdown",
   "metadata": {},
   "source": [
    "## 3. Дополните код Монте-Карло последовательности независимых испытаний расчетом соответствующих вероятностей (через биномиальное распределение) \n",
    "и сравните результаты.\n",
    "Повторите расчеты биномиальных коэффициентов и вероятностей k успехов в последовательности из n независимых испытаний, взяв другие значения n и k.\n"
   ]
  },
  {
   "cell_type": "code",
   "execution_count": 8,
   "metadata": {},
   "outputs": [],
   "source": [
    "import numpy as np\n",
    "import itertools"
   ]
  },
  {
   "cell_type": "code",
   "execution_count": 9,
   "metadata": {},
   "outputs": [
    {
     "name": "stdout",
     "output_type": "stream",
     "text": [
      "10 10 1.0\n",
      "Число сочетаний = 1.0, Вероятность = 0.0009765625\n"
     ]
    }
   ],
   "source": [
    "k, n = 5, 10\n",
    "a = np.random.randint(0, 2, n)\n",
    "b = np.random.randint(0, 2, n)\n",
    "c = np.random.randint(0, 2, n)\n",
    "d = np.random.randint(0, 2, n)\n",
    "x = a + b + c + d\n",
    "for i in range(0, n):\n",
    "    if x[i] == 2:\n",
    "        k = k + 1\n",
    "       \n",
    "Cnk = np.math.factorial(n)/(np.math.factorial(k)*np.math.factorial(n-k))\n",
    "Pnk = Cnk*0.5**(k)*0.5**(n-k)\n",
    "#print(a, b, c, d,cre)\n",
    "#print(x)\n",
    "print(k, n, k/n)\n",
    "print(f'Число сочетаний = {Cnk}, Вероятность = {Pnk}')"
   ]
  },
  {
   "cell_type": "markdown",
   "metadata": {},
   "source": [
    "## 4. Из урока по комбинаторике повторите расчеты, сгенерировав возможные варианты перестановок для других значений n и k\n"
   ]
  },
  {
   "cell_type": "code",
   "execution_count": 10,
   "metadata": {},
   "outputs": [],
   "source": [
    "import numpy as np\n",
    "import itertools"
   ]
  },
  {
   "cell_type": "code",
   "execution_count": 11,
   "metadata": {},
   "outputs": [
    {
     "name": "stdout",
     "output_type": "stream",
     "text": [
      "3723 10000 0.3723\n"
     ]
    }
   ],
   "source": [
    "k, n = 0, 10000\n",
    "a = np.random.randint(0, 2, n)\n",
    "b = np.random.randint(0, 2, n)\n",
    "c = np.random.randint(0, 2, n)\n",
    "d = np.random.randint(0, 2, n)\n",
    "x = a + b + c + d\n",
    "for i in range(0, n):\n",
    "    if x[i] == 2:\n",
    "        k = k + 1\n",
    "#print(a, b, c, d)\n",
    "#print(x)\n",
    "print(k, n, k/n)"
   ]
  },
  {
   "cell_type": "code",
   "execution_count": 12,
   "metadata": {},
   "outputs": [
    {
     "name": "stdout",
     "output_type": "stream",
     "text": [
      "000\n",
      "001\n",
      "010\n",
      "011\n",
      "100\n",
      "101\n",
      "110\n",
      "111\n"
     ]
    }
   ],
   "source": [
    "for p in itertools.product(\"01\",repeat=3):\n",
    "    print(''.join(p))   "
   ]
  },
  {
   "cell_type": "code",
   "execution_count": 13,
   "metadata": {},
   "outputs": [
    {
     "name": "stdout",
     "output_type": "stream",
     "text": [
      "01\n",
      "02\n",
      "03\n",
      "10\n",
      "12\n",
      "13\n",
      "20\n",
      "21\n",
      "23\n",
      "30\n",
      "31\n",
      "32\n"
     ]
    }
   ],
   "source": [
    "for p in itertools.permutations(\"0123\",2):\n",
    "    print(''.join(str(x) for x in p))"
   ]
  },
  {
   "cell_type": "code",
   "execution_count": 14,
   "metadata": {},
   "outputs": [
    {
     "name": "stdout",
     "output_type": "stream",
     "text": [
      "012\n",
      "013\n",
      "023\n",
      "123\n"
     ]
    }
   ],
   "source": [
    "for p in itertools.combinations(\"0123\",3):\n",
    "    print(''.join(p))"
   ]
  },
  {
   "cell_type": "code",
   "execution_count": 15,
   "metadata": {},
   "outputs": [
    {
     "name": "stdout",
     "output_type": "stream",
     "text": [
      "0000\n",
      "0001\n",
      "0010\n",
      "0011\n",
      "0100\n",
      "0101\n",
      "0110\n",
      "0111\n",
      "1000\n",
      "1001\n",
      "1010\n",
      "1011\n",
      "1100\n",
      "1101\n",
      "1110\n",
      "1111\n"
     ]
    }
   ],
   "source": [
    "for p in itertools.product(\"01\",repeat=4):\n",
    "    print(''.join(p))   "
   ]
  },
  {
   "cell_type": "markdown",
   "metadata": {},
   "source": [
    "## 5. Дополните код расчетом коэффициента корреляции x и y по формуле\n"
   ]
  },
  {
   "cell_type": "code",
   "execution_count": 16,
   "metadata": {},
   "outputs": [
    {
     "name": "stdout",
     "output_type": "stream",
     "text": [
      "0.7279639053729883 0.12800914733483118\n",
      "0.7279639053729887 0.12800914733483096\n"
     ]
    },
    {
     "name": "stderr",
     "output_type": "stream",
     "text": [
      "C:\\Users\\Alfa\\Anaconda3\\lib\\site-packages\\ipykernel_launcher.py:18: FutureWarning: `rcond` parameter will change to the default of machine precision times ``max(M, N)`` where M and N are the input matrix dimensions.\n",
      "To use the future default and silence this warning we advise to pass `rcond=None`, to keep using the old, explicitly pass `rcond=-1`.\n"
     ]
    },
    {
     "data": {
      "image/png": "[encoded data removed]",
      "text/plain": [
       "<Figure size 432x288 with 1 Axes>"
      ]
     },
     "metadata": {
      "needs_background": "light"
     },
     "output_type": "display_data"
    },
    {
     "name": "stdout",
     "output_type": "stream",
     "text": [
      "[[1.         0.92529535]\n",
      " [0.92529535 1.        ]] \n",
      "\n",
      "0.9252953535997852\n"
     ]
    }
   ],
   "source": [
    "%matplotlib inline\n",
    "import numpy as np\n",
    "import matplotlib.pyplot as plt\n",
    "\n",
    "n = 100\n",
    "r = 0.7\n",
    "x = np.random.rand(n)\n",
    "y = r*x + (1 - r)*np.random.rand(n)\n",
    "plt.plot(x, y, 'o')\n",
    "plt.xlabel('x')\n",
    "plt.ylabel('y')\n",
    "plt.grid(True)\n",
    "\n",
    "a = (np.sum(x)*np.sum(y) - n*np.sum(x*y))/(np.sum(x)*np.sum(x) - n*np.sum(x*x))\n",
    "b = (np.sum(y) - a*np.sum(x))/n\n",
    "\n",
    "A = np.vstack([x, np.ones(len(x))]).T\n",
    "a1, b1 = np.linalg.lstsq(A, y)[0]\n",
    "print(a, b)\n",
    "print(a1, b1)\n",
    "plt.plot([0, 1], [b, a + b])\n",
    "plt.show()\n",
    "c = np.corrcoef(x, y)\n",
    "x_bar = np.mean(x)\n",
    "y_bar = np.mean(y)\n",
    "\n",
    "print(c,'\\n')\n",
    "x_bar = np.mean(x)\n",
    "y_bar = np.mean(y)\n",
    "C = (np.sum((x - x_bar) * (y - y_bar)))/(np.sqrt(np.sum(np.power(x - x_bar, 2)) * np.sum(np.power(y - y_bar, 2))))\n",
    "print(C)"
   ]
  }
 ],
 "metadata": {
  "kernelspec": {
   "display_name": "Python 3",
   "language": "python",
   "name": "python3"
  },
  "language_info": {
   "codemirror_mode": {
    "name": "ipython",
    "version": 3
   },
   "file_extension": ".py",
   "mimetype": "text/x-python",
   "name": "python",
   "nbconvert_exporter": "python",
   "pygments_lexer": "ipython3",
   "version": "3.7.3"
  }
 },
 "nbformat": 4,
 "nbformat_minor": 4
}
